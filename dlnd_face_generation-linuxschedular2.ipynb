{
 "cells": [
  {
   "cell_type": "markdown",
   "metadata": {},
   "source": [
    "# Face Generation\n",
    "\n",
    "In this project, you'll define and train a DCGAN on a dataset of faces. Your goal is to get a generator network to generate *new* images of faces that look as realistic as possible!\n",
    "\n",
    "The project will be broken down into a series of tasks from **loading in data to defining and training adversarial networks**. At the end of the notebook, you'll be able to visualize the results of your trained Generator to see how it performs; your generated samples should look like fairly realistic faces with small amounts of noise.\n",
    "\n",
    "### Get the Data\n",
    "\n",
    "You'll be using the [CelebFaces Attributes Dataset (CelebA)](http://mmlab.ie.cuhk.edu.hk/projects/CelebA.html) to train your adversarial networks.\n",
    "\n",
    "This dataset is more complex than the number datasets (like MNIST or SVHN) you've been working with, and so, you should prepare to define deeper networks and train them for a longer time to get good results. It is suggested that you utilize a GPU for training.\n",
    "\n",
    "### Pre-processed Data\n",
    "\n",
    "Since the project's main focus is on building the GANs, we've done *some* of the pre-processing for you. Each of the CelebA images has been cropped to remove parts of the image that don't include a face, then resized down to 64x64x3 NumPy images. Some sample data is show below.\n",
    "\n",
    "<img src='assets/processed_face_data.png' width=60% />\n",
    "\n",
    "> If you are working locally, you can download this data [by clicking here](https://s3.amazonaws.com/video.udacity-data.com/topher/2018/November/5be7eb6f_processed-celeba-small/processed-celeba-small.zip)\n",
    "\n",
    "This is a zip file that you'll need to extract in the home directory of this notebook for further loading and processing. After extracting the data, you should be left with a directory of data `processed_celeba_small/`"
   ]
  },
  {
   "cell_type": "code",
   "execution_count": 1,
   "metadata": {},
   "outputs": [],
   "source": [
    "# # can comment out after executing\n",
    "# !unzip processed_celeba_small.zip"
   ]
  },
  {
   "cell_type": "code",
   "execution_count": 2,
   "metadata": {},
   "outputs": [],
   "source": [
    "#data_dir = 'processed_celeba_small/'\n",
    "\n",
    "\"\"\"\n",
    "DON'T MODIFY ANYTHING IN THIS CELL\n",
    "\"\"\"\n",
    "import pickle as pkl\n",
    "import matplotlib.pyplot as plt\n",
    "import numpy as np\n",
    "import problem_unittests as tests\n",
    "#import helper\n",
    "\n",
    "%matplotlib inline"
   ]
  },
  {
   "cell_type": "markdown",
   "metadata": {},
   "source": [
    "## Visualize the CelebA Data\n",
    "\n",
    "The [CelebA](http://mmlab.ie.cuhk.edu.hk/projects/CelebA.html) dataset contains over 200,000 celebrity images with annotations. Since you're going to be generating faces, you won't need the annotations, you'll only need the images. Note that these are color images with [3 color channels (RGB)](https://en.wikipedia.org/wiki/Channel_(digital_image)#RGB_Images) each.\n",
    "\n",
    "### Pre-process and Load the Data\n",
    "\n",
    "Since the project's main focus is on building the GANs, we've done *some* of the pre-processing for you. Each of the CelebA images has been cropped to remove parts of the image that don't include a face, then resized down to 64x64x3 NumPy images. This *pre-processed* dataset is a smaller subset of the very large CelebA data.\n",
    "\n",
    "> There are a few other steps that you'll need to **transform** this data and create a **DataLoader**.\n",
    "\n",
    "#### Exercise: Complete the following `get_dataloader` function, such that it satisfies these requirements:\n",
    "\n",
    "* Your images should be square, Tensor images of size `image_size x image_size` in the x and y dimension.\n",
    "* Your function should return a DataLoader that shuffles and batches these Tensor images.\n",
    "\n",
    "#### ImageFolder\n",
    "\n",
    "To create a dataset given a directory of images, it's recommended that you use PyTorch's [ImageFolder](https://pytorch.org/docs/stable/torchvision/datasets.html#imagefolder) wrapper, with a root directory `processed_celeba_small/` and data transformation passed in."
   ]
  },
  {
   "cell_type": "code",
   "execution_count": 3,
   "metadata": {},
   "outputs": [
    {
     "name": "stdout",
     "output_type": "stream",
     "text": [
      "CUDA is available!  Training on GPU ...\n",
      "TITAN RTX\n",
      "Let's use 4 GPUs!\n",
      "Time Stage: 0.075 seconds\n"
     ]
    }
   ],
   "source": [
    "# loading in and transforming data\n",
    "import os\n",
    "import torch\n",
    "from torch.utils.data import DataLoader\n",
    "import torchvision\n",
    "import torchvision.datasets as datasets\n",
    "import torchvision.transforms as transforms\n",
    "import torch.nn as nn\n",
    "import torch.nn.functional as F\n",
    "import torch.optim as optim\n",
    "from torch.optim import lr_scheduler\n",
    "from torch.autograd import Variable\n",
    "\n",
    "# visualizing data\n",
    "import matplotlib.pyplot as plt\n",
    "import numpy as np\n",
    "import warnings\n",
    "\n",
    "import argparse\n",
    "from apex.parallel import DistributedDataParallel as DDP\n",
    "from apex.fp16_utils import FP16_Optimizer\n",
    "import time\n",
    "starttime = time.time()\n",
    "\n",
    "# check if CUDA is available\n",
    "train_on_gpu = torch.cuda.is_available()\n",
    "#torch.cuda.set_device(2)\n",
    "\n",
    "if not train_on_gpu:\n",
    "    print('CUDA is not available.  Training on CPU ...')\n",
    "else:\n",
    "    print('CUDA is available!  Training on GPU ...')\n",
    "device = torch.device('cuda')\n",
    "print(torch.cuda.get_device_name(device))\n",
    "#vgg16.to(device)\n",
    "if torch.cuda.device_count() > 1:\n",
    "    print(\"Let's use\", torch.cuda.device_count(), \"GPUs!\")\n",
    "    print(f\"Time Stage: {(time.time() - starttime):.3f} seconds\")\n",
    "    \n",
    "#torch.distributed.init_process_group(backend='nccl')\n",
    "\n",
    "%matplotlib inline\n",
    "\n",
    "img_size=32\n",
    "batch_size=64#64\n",
    "num_workers=24\n",
    "n_res_blocks=0\n",
    "g_res_blocks=0\n",
    "n_epochs = 4 # keep this small when testing if a model first works\n",
    "# Define model hyperparams\n",
    "d_conv_dim = 32\n",
    "g_conv_dim = 32\n",
    "z_size = 100\n",
    "data_dir='processed_celeba_small/'\n",
    "# params\n",
    "lr = 0.0003#0.0002*4\n",
    "beta1=0.5\n",
    "beta2=0.999 # default value\n",
    "lr1min = 1e-09\n",
    "patience=18\n",
    "cooldown=8"
   ]
  },
  {
   "cell_type": "code",
   "execution_count": 4,
   "metadata": {},
   "outputs": [],
   "source": [
    "def get_dataloader(batch_size, image_size, data_dir='processed_celeba_small/', num_workers=16):\n",
    "    \"\"\"\n",
    "    Batch the neural network data using DataLoader\n",
    "    :param batch_size: The size of each batch; the number of images in a batch\n",
    "    :param img_size: The square size of the image data (x, y)\n",
    "    :param data_dir: Directory where image data is located\n",
    "    :return: DataLoader with batched data\n",
    "    \"\"\"\n",
    "    print(\"Ther are workers! \", num_workers)\n",
    "    transform = transforms.Compose([transforms.Resize(image_size), \n",
    "                                    transforms.ToTensor()])\n",
    "\n",
    "    train_dataset = datasets.ImageFolder(data_dir, transform)\n",
    "    train_loader = DataLoader(dataset=train_dataset, batch_size=batch_size, \n",
    "                              shuffle=True, num_workers=num_workers)\n",
    "    \n",
    "    return train_loader\n"
   ]
  },
  {
   "cell_type": "markdown",
   "metadata": {},
   "source": [
    "## Create a DataLoader\n",
    "\n",
    "#### Exercise: Create a DataLoader `celeba_train_loader` with appropriate hyperparameters.\n",
    "\n",
    "Call the above function and create a dataloader to view images. \n",
    "* You can decide on any reasonable `batch_size` parameter\n",
    "* Your `image_size` **must be** `32`. Resizing the data to a smaller size will make for faster training, while still creating convincing images of faces!"
   ]
  },
  {
   "cell_type": "code",
   "execution_count": 5,
   "metadata": {},
   "outputs": [
    {
     "name": "stdout",
     "output_type": "stream",
     "text": [
      "Ther are workers!  24\n"
     ]
    }
   ],
   "source": [
    "# Define function hyperparameters\n",
    "#batch_size = 64\n",
    "#img_size = 32\n",
    "\n",
    "\"\"\"\n",
    "DON'T MODIFY ANYTHING IN THIS CELL THAT IS BELOW THIS LINE\n",
    "\"\"\"\n",
    "# Call your function and get a dataloader\n",
    "celeba_train_loader = get_dataloader(batch_size, img_size, data_dir, num_workers)\n"
   ]
  },
  {
   "cell_type": "markdown",
   "metadata": {},
   "source": [
    "Next, you can view some images! You should seen square images of somewhat-centered faces.\n",
    "\n",
    "Note: You'll need to convert the Tensor images into a NumPy type and transpose the dimensions to correctly display an image, suggested `imshow` code is below, but it may not be perfect."
   ]
  },
  {
   "cell_type": "code",
   "execution_count": 6,
   "metadata": {},
   "outputs": [
    {
     "data": {
      "image/png": "[encoded data removed]",
      "text/plain": [
       "<Figure size 1440x288 with 20 Axes>"
      ]
     },
     "metadata": {},
     "output_type": "display_data"
    }
   ],
   "source": [
    "# helper display function\n",
    "def imshow(img):\n",
    "    npimg = img.numpy()\n",
    "    plt.imshow(np.transpose(npimg, (1, 2, 0)))\n",
    "\n",
    "\"\"\"\n",
    "DON'T MODIFY ANYTHING IN THIS CELL THAT IS BELOW THIS LINE\n",
    "\"\"\"\n",
    "# obtain one batch of training images\n",
    "dataiter = iter(celeba_train_loader)\n",
    "images, _ = dataiter.next() # _ for no labels\n",
    "\n",
    "# plot the images in the batch, along with the corresponding labels\n",
    "fig = plt.figure(figsize=(20, 4))\n",
    "plot_size=20\n",
    "for idx in np.arange(plot_size):\n",
    "    ax = fig.add_subplot(2, plot_size/2, idx+1, xticks=[], yticks=[])\n",
    "    imshow(images[idx])"
   ]
  },
  {
   "cell_type": "markdown",
   "metadata": {},
   "source": [
    "#### Exercise: Pre-process your image data and scale it to a pixel range of -1 to 1\n",
    "\n",
    "You need to do a bit of pre-processing; you know that the output of a `tanh` activated generator will contain pixel values in a range from -1 to 1, and so, we need to rescale our training images to a range of -1 to 1. (Right now, they are in a range from 0-1.)"
   ]
  },
  {
   "cell_type": "code",
   "execution_count": 7,
   "metadata": {},
   "outputs": [],
   "source": [
    "# TODO: Complete the scale function\n",
    "def scale(x, feature_range=(-1, 1)):\n",
    "    ''' Scale takes in an image x and returns that image, scaled\n",
    "       with a feature_range of pixel values from -1 to 1. \n",
    "       This function assumes that the input x is already scaled from 0-1.'''\n",
    "    # assume x is scaled to (0, 1)\n",
    "    # scale to feature_range and return scaled x\n",
    "    min, max = feature_range\n",
    "    x = x * (max - min) + min\n",
    "    \n",
    "    return x\n"
   ]
  },
  {
   "cell_type": "code",
   "execution_count": 8,
   "metadata": {},
   "outputs": [
    {
     "name": "stdout",
     "output_type": "stream",
     "text": [
      "Min:  tensor(-1.)\n",
      "Max:  tensor(1.)\n"
     ]
    }
   ],
   "source": [
    "\"\"\"\n",
    "DON'T MODIFY ANYTHING IN THIS CELL THAT IS BELOW THIS LINE\n",
    "\"\"\"\n",
    "# check scaled range\n",
    "# should be close to -1 to 1\n",
    "img = images[0]\n",
    "scaled_img = scale(img)\n",
    "\n",
    "print('Min: ', scaled_img.min())\n",
    "print('Max: ', scaled_img.max())"
   ]
  },
  {
   "cell_type": "markdown",
   "metadata": {},
   "source": [
    "---\n",
    "# Define the Model\n",
    "\n",
    "A GAN is comprised of two adversarial networks, a discriminator and a generator.\n",
    "\n",
    "## Discriminator\n",
    "\n",
    "Your first task will be to define the discriminator. This is a convolutional classifier like you've built before, only without any maxpooling layers. To deal with this complex data, it's suggested you use a deep network with **normalization**. You are also allowed to create any helper functions that may be useful.\n",
    "\n",
    "#### Exercise: Complete the Discriminator class\n",
    "* The inputs to the discriminator are 32x32x3 tensor images\n",
    "* The output should be a single value that will indicate whether a given image is real or fake\n"
   ]
  },
  {
   "cell_type": "code",
   "execution_count": 9,
   "metadata": {},
   "outputs": [],
   "source": [
    "# residual block class\n",
    "class ResidualBlock(nn.Module):\n",
    "    \"\"\"Defines a residual block.\n",
    "       This adds an input x to a convolutional layer (applied to x) with the same size input and output.\n",
    "       These blocks allow a model to learn an effective transformation from one domain to another.\n",
    "    \"\"\"\n",
    "    def __init__(self, conv_dim):\n",
    "        super(ResidualBlock, self).__init__()\n",
    "        # conv_dim = number of inputs\n",
    "        \n",
    "        # define two convolutional layers + batch normalization that will act as our residual function, F(x)\n",
    "        # layers should have the same shape input as output; I suggest a kernel_size of 3\n",
    "        \n",
    "        self.conv_layer1 = conv(in_channels=conv_dim, out_channels=conv_dim, \n",
    "                                kernel_size=3, stride=1, padding=1, batch_norm=True)\n",
    "        \n",
    "        self.conv_layer2 = conv(in_channels=conv_dim, out_channels=conv_dim, \n",
    "                               kernel_size=3, stride=1, padding=1, batch_norm=True)\n",
    "        \n",
    "    def forward(self, x):\n",
    "        # apply a ReLu activation the outputs of the first layer\n",
    "        # return a summed output, x + resnet_block(x)\n",
    "        out_1 = F.relu(self.conv_layer1(x))\n",
    "        out_2 = x + self.conv_layer2(out_1)\n",
    "        return out_2\n",
    "    "
   ]
  },
  {
   "cell_type": "code",
   "execution_count": 10,
   "metadata": {},
   "outputs": [],
   "source": [
    "# helper conv function\n",
    "#def conv(in_channels, out_channels, kernel_size, stride=2, padding=1, batch_norm=True):\n",
    "def conv(in_channels, out_channels, kernel_size, stride=2, padding=1, batch_norm=True):\n",
    "    \"\"\"Creates a convolutional layer, with optional batch normalization.\n",
    "    \"\"\"\n",
    "    layers = []\n",
    "    conv_layer = nn.Conv2d(in_channels=in_channels, out_channels=out_channels, \n",
    "                           kernel_size=kernel_size, stride=stride, padding=padding, bias=False)\n",
    "    \n",
    "    layers.append(conv_layer)\n",
    "\n",
    "    if batch_norm:\n",
    "        layers.append(nn.BatchNorm2d(out_channels))\n",
    "    return nn.Sequential(*layers)"
   ]
  },
  {
   "cell_type": "code",
   "execution_count": 11,
   "metadata": {},
   "outputs": [
    {
     "name": "stdout",
     "output_type": "stream",
     "text": [
      "Tests Passed\n"
     ]
    }
   ],
   "source": [
    "class Discriminator(nn.Module):\n",
    "\n",
    "    def __init__(self, conv_dim=32, n_res_blocks=6):\n",
    "        \"\"\"\n",
    "        Initialize the Discriminator Module\n",
    "        :param conv_dim: The depth of the first convolutional layer\n",
    "        \"\"\"\n",
    "        super(Discriminator, self).__init__()\n",
    "\n",
    "        # Convolutional layers, increasing in depth\n",
    "        self.conv_dim = conv_dim\n",
    "        # first layer has *no* batchnorm\n",
    "        self.conv1 = conv(3, conv_dim, 4, batch_norm=False) # x, y = 32, 32, depth 64\n",
    "        self.conv2 = conv(conv_dim, conv_dim*2, 4) # (16, 16, 128)\n",
    "        self.conv3 = conv(conv_dim*2, conv_dim*4, 4) # (8, 8, 256) \n",
    "        \n",
    "        # 2. Define the resnet part of the generator\n",
    "        # Residual blocks\n",
    "        res_layers = []\n",
    "        for layer in range(n_res_blocks):\n",
    "            res_layers.append(ResidualBlock(conv_dim*4))\n",
    "        # use sequential to create these layers\n",
    "        self.res_blocks = nn.Sequential(*res_layers)\n",
    "        \n",
    "        self.conv4 = conv(conv_dim*4, conv_dim*8, 4) # (4, 4, 512)  \n",
    "        \n",
    "        # Classification layer\n",
    "        #self.conv5 = conv(conv_dim*8, 1, 4, stride=1, batch_norm=False)\n",
    "        self.fc = nn.Linear(conv_dim*4*4*2, 1)\n",
    "\n",
    "    def forward(self, x):\n",
    "        \"\"\"\n",
    "        Forward propagation of the neural network\n",
    "        :param x: The input to the neural network     \n",
    "        :return: Discriminator logits; the output of the neural network\n",
    "        \"\"\"\n",
    "        # relu applied to all conv layers but last\n",
    "        out = F.leaky_relu(self.conv1(x), 0.2)\n",
    "        out = F.leaky_relu(self.conv2(out), 0.2)\n",
    "        out = F.leaky_relu(self.conv3(out), 0.2)\n",
    "        out = self.res_blocks(out)\n",
    "        out = F.leaky_relu(self.conv4(out), 0.2)\n",
    "        # last, classification layer\n",
    "        #out = self.conv5(out)\n",
    "        out = out.view(-1, self.conv_dim*4*4*2) #flattening\n",
    "        #out = out.view(self.conv_dim*5, -1) #flattening\n",
    "        out = self.fc(out) \n",
    "        \n",
    "        return out\n",
    "\n",
    "\n",
    "\"\"\"\n",
    "DON'T MODIFY ANYTHING IN THIS CELL THAT IS BELOW THIS LINE\n",
    "\"\"\"\n",
    "tests.test_discriminator(Discriminator)"
   ]
  },
  {
   "cell_type": "markdown",
   "metadata": {},
   "source": [
    "## Generator\n",
    "\n",
    "The generator should upsample an input and generate a *new* image of the same size as our training data `32x32x3`. This should be mostly transpose convolutional layers with normalization applied to the outputs.\n",
    "\n",
    "#### Exercise: Complete the Generator class\n",
    "* The inputs to the generator are vectors of some length `z_size`\n",
    "* The output should be a image of shape `32x32x3`"
   ]
  },
  {
   "cell_type": "code",
   "execution_count": 12,
   "metadata": {},
   "outputs": [],
   "source": [
    "# helper deconv function\n",
    "#def deconv(in_channels, out_channels, kernel_size, stride=2, padding=1, batch_norm=True):\n",
    "def deconv(in_channels, out_channels, kernel_size, stride=2, padding=1, batch_norm=True):\n",
    "    \"\"\"Creates a transpose convolutional layer, with optional batch normalization.\n",
    "    \"\"\"\n",
    "    layers = []\n",
    "    # append transpose conv layer\n",
    "    layers.append(nn.ConvTranspose2d(in_channels, out_channels, kernel_size, stride, padding, bias=False))\n",
    "    # optional batch norm layer\n",
    "    if batch_norm:\n",
    "        layers.append(nn.BatchNorm2d(out_channels))\n",
    "    return nn.Sequential(*layers)"
   ]
  },
  {
   "cell_type": "code",
   "execution_count": 13,
   "metadata": {},
   "outputs": [
    {
     "name": "stdout",
     "output_type": "stream",
     "text": [
      "Tests Passed\n"
     ]
    }
   ],
   "source": [
    "class Generator(nn.Module):\n",
    "    \n",
    "    def __init__(self, z_size, conv_dim=32, n_res_blocks=3):\n",
    "        \"\"\"\n",
    "        Initialize the Generator Module\n",
    "        :param z_size: The length of the input latent vector, z\n",
    "        :param conv_dim: The depth of the inputs to the *last* transpose convolutional layer\n",
    "        \"\"\"\n",
    "        super(Generator, self).__init__()\n",
    "        \n",
    "        self.conv_dim = conv_dim\n",
    "        self.fc = nn.Linear(z_size, conv_dim*4*4*4)\n",
    "\n",
    "        # 3. Define the decoder part of the generator\n",
    "        # two transpose convolutional layers and a third that looks a lot like the initial conv layer\n",
    "        self.deconv1 = deconv(conv_dim*4, conv_dim*2, 4)\n",
    "        self.deconv2 = deconv(conv_dim*2, conv_dim, 4)\n",
    "        \n",
    "        # 2. Define the resnet part of the generator\n",
    "        # Residual blocks\n",
    "        res_layers = []\n",
    "        for layer in range(g_res_blocks):\n",
    "            res_layers.append(ResidualBlock(conv_dim))\n",
    "        # use sequential to create these layers\n",
    "        self.res_blocks = nn.Sequential(*res_layers)\n",
    "        \n",
    "        # no batch norm on last layer\n",
    "        self.deconv3 = deconv(conv_dim, 3, 4, batch_norm=False)\n",
    "        \n",
    "\n",
    "    def forward(self, x):\n",
    "        \"\"\"\n",
    "        Forward propagation of the neural network\n",
    "        :param x: The input to the neural network     \n",
    "        :return: A 32x32x3 Tensor image as output\n",
    "        \"\"\"\n",
    "        # fully-connected + reshape \n",
    "        out = self.fc(x)\n",
    "        out = out.view(-1, self.conv_dim*4, 4, 4) # (batch_size, depth, 4, 4)\n",
    "        \n",
    "        # hidden transpose conv layers + relu\n",
    "        out = F.relu(self.deconv1(out))\n",
    "        out = F.relu(self.deconv2(out))\n",
    "        \n",
    "        # Residual blocks\n",
    "        out = self.res_blocks(out) \n",
    "\n",
    "        # last layer + tanh activation\n",
    "        out = self.deconv3(out)\n",
    "        out = torch.tanh(out)\n",
    "        \n",
    "        return out\n",
    "\n",
    "\"\"\"\n",
    "DON'T MODIFY ANYTHING IN THIS CELL THAT IS BELOW THIS LINE\n",
    "\"\"\"\n",
    "tests.test_generator(Generator)"
   ]
  },
  {
   "cell_type": "markdown",
   "metadata": {},
   "source": [
    "## Initialize the weights of your networks\n",
    "\n",
    "To help your models converge, you should initialize the weights of the convolutional and linear layers in your model. From reading the [original DCGAN paper](https://arxiv.org/pdf/1511.06434.pdf), they say:\n",
    "> All weights were initialized from a zero-centered Normal distribution with standard deviation 0.02.\n",
    "\n",
    "So, your next task will be to define a weight initialization function that does just this!\n",
    "\n",
    "You can refer back to the lesson on weight initialization or even consult existing model code, such as that from [the `networks.py` file in CycleGAN Github repository](https://github.com/junyanz/pytorch-CycleGAN-and-pix2pix/blob/master/models/networks.py) to help you complete this function.\n",
    "\n",
    "#### Exercise: Complete the weight initialization function\n",
    "\n",
    "* This should initialize only **convolutional** and **linear** layers\n",
    "* Initialize the weights to a normal distribution, centered around 0, with a standard deviation of 0.02.\n",
    "* The bias terms, if they exist, may be left alone or set to 0."
   ]
  },
  {
   "cell_type": "code",
   "execution_count": 14,
   "metadata": {},
   "outputs": [],
   "source": [
    "def weights_init_normal(m):\n",
    "    \"\"\"\n",
    "    Applies initial weights to certain layers in a model .\n",
    "    The weights are taken from a normal distribution \n",
    "    with mean = 0, std dev = 0.02.\n",
    "    :param m: A module or layer in a network    \n",
    "    \"\"\"\n",
    "    # classname will be something like:\n",
    "    # `Conv`, `BatchNorm2d`, `Linear`, etc.\n",
    "    classname = m.__class__.__name__\n",
    "    \n",
    "    if hasattr(m, 'weight') and (classname.find('Conv') != -1 or classname.find('Linear') != -1):\n",
    "        nn.init.normal_(m.weight.data, mean=0, std=0.02)\n",
    "        \n",
    "        # The bias terms, if they exist, set to 0\n",
    "        if hasattr(m, 'bias') and m.bias is not None:\n",
    "            nn.init.constant_(m.bias.data, 0.0)"
   ]
  },
  {
   "cell_type": "markdown",
   "metadata": {
    "collapsed": true
   },
   "source": [
    "## Build complete network\n",
    "\n",
    "Define your models' hyperparameters and instantiate the discriminator and generator from the classes defined above. Make sure you've passed in the correct input arguments."
   ]
  },
  {
   "cell_type": "code",
   "execution_count": 15,
   "metadata": {},
   "outputs": [],
   "source": [
    "\"\"\"\n",
    "DON'T MODIFY ANYTHING IN THIS CELL THAT IS BELOW THIS LINE\n",
    "\"\"\"\n",
    "def build_network(d_conv_dim, g_conv_dim, z_size):\n",
    "    # define discriminator and generator\n",
    "    D = Discriminator(d_conv_dim, n_res_blocks=n_res_blocks)\n",
    "    G = Generator(z_size=z_size, conv_dim=g_conv_dim, n_res_blocks=n_res_blocks)\n",
    "\n",
    "    # initialize model weights\n",
    "    D.apply(weights_init_normal)\n",
    "    G.apply(weights_init_normal)\n",
    "\n",
    "    print(D)\n",
    "    print()\n",
    "    print(G)\n",
    "    \n",
    "    return D, G\n"
   ]
  },
  {
   "cell_type": "markdown",
   "metadata": {},
   "source": [
    "#### Exercise: Define model hyperparameters"
   ]
  },
  {
   "cell_type": "code",
   "execution_count": 16,
   "metadata": {},
   "outputs": [
    {
     "name": "stdout",
     "output_type": "stream",
     "text": [
      "Discriminator(\n",
      "  (conv1): Sequential(\n",
      "    (0): Conv2d(3, 32, kernel_size=(4, 4), stride=(2, 2), padding=(1, 1), bias=False)\n",
      "  )\n",
      "  (conv2): Sequential(\n",
      "    (0): Conv2d(32, 64, kernel_size=(4, 4), stride=(2, 2), padding=(1, 1), bias=False)\n",
      "    (1): BatchNorm2d(64, eps=1e-05, momentum=0.1, affine=True, track_running_stats=True)\n",
      "  )\n",
      "  (conv3): Sequential(\n",
      "    (0): Conv2d(64, 128, kernel_size=(4, 4), stride=(2, 2), padding=(1, 1), bias=False)\n",
      "    (1): BatchNorm2d(128, eps=1e-05, momentum=0.1, affine=True, track_running_stats=True)\n",
      "  )\n",
      "  (res_blocks): Sequential()\n",
      "  (conv4): Sequential(\n",
      "    (0): Conv2d(128, 256, kernel_size=(4, 4), stride=(2, 2), padding=(1, 1), bias=False)\n",
      "    (1): BatchNorm2d(256, eps=1e-05, momentum=0.1, affine=True, track_running_stats=True)\n",
      "  )\n",
      "  (fc): Linear(in_features=1024, out_features=1, bias=True)\n",
      ")\n",
      "\n",
      "Generator(\n",
      "  (fc): Linear(in_features=100, out_features=2048, bias=True)\n",
      "  (deconv1): Sequential(\n",
      "    (0): ConvTranspose2d(128, 64, kernel_size=(4, 4), stride=(2, 2), padding=(1, 1), bias=False)\n",
      "    (1): BatchNorm2d(64, eps=1e-05, momentum=0.1, affine=True, track_running_stats=True)\n",
      "  )\n",
      "  (deconv2): Sequential(\n",
      "    (0): ConvTranspose2d(64, 32, kernel_size=(4, 4), stride=(2, 2), padding=(1, 1), bias=False)\n",
      "    (1): BatchNorm2d(32, eps=1e-05, momentum=0.1, affine=True, track_running_stats=True)\n",
      "  )\n",
      "  (res_blocks): Sequential()\n",
      "  (deconv3): Sequential(\n",
      "    (0): ConvTranspose2d(32, 3, kernel_size=(4, 4), stride=(2, 2), padding=(1, 1), bias=False)\n",
      "  )\n",
      ")\n"
     ]
    }
   ],
   "source": [
    "\n",
    "\n",
    "\"\"\"\n",
    "DON'T MODIFY ANYTHING IN THIS CELL THAT IS BELOW THIS LINE\n",
    "\"\"\"\n",
    "D, G = build_network(d_conv_dim, g_conv_dim, z_size)"
   ]
  },
  {
   "cell_type": "markdown",
   "metadata": {},
   "source": [
    "### Training on GPU\n",
    "\n",
    "Check if you can train on GPU. Here, we'll set this as a boolean variable `train_on_gpu`. Later, you'll be responsible for making sure that \n",
    ">* Models,\n",
    "* Model inputs, and\n",
    "* Loss function arguments\n",
    "\n",
    "Are moved to GPU, where appropriate."
   ]
  },
  {
   "cell_type": "code",
   "execution_count": 17,
   "metadata": {},
   "outputs": [
    {
     "name": "stdout",
     "output_type": "stream",
     "text": [
      "Training on GPU!\n"
     ]
    }
   ],
   "source": [
    "\"\"\"\n",
    "DON'T MODIFY ANYTHING IN THIS CELL\n",
    "\"\"\"\n",
    "import torch\n",
    "\n",
    "# Check for a GPU\n",
    "train_on_gpu = torch.cuda.is_available()\n",
    "if not train_on_gpu:\n",
    "    print('No GPU found. Please use a GPU to train your neural network.')\n",
    "else:\n",
    "    print('Training on GPU!')"
   ]
  },
  {
   "cell_type": "code",
   "execution_count": 18,
   "metadata": {},
   "outputs": [
    {
     "name": "stderr",
     "output_type": "stream",
     "text": [
      "/opt/conda/lib/python3.6/site-packages/torch/nn/parallel/data_parallel.py:26: UserWarning: \n",
      "    There is an imbalance between your GPUs. You may want to exclude GPU 1 which\n",
      "    has less than 75% of the memory or cores of GPU 0. You can do so by setting\n",
      "    the device_ids argument to DataParallel, or by setting the CUDA_VISIBLE_DEVICES\n",
      "    environment variable.\n",
      "  warnings.warn(imbalance_warn.format(device_ids[min_pos], device_ids[max_pos]))\n"
     ]
    }
   ],
   "source": [
    "# move models to GPU\n",
    "if train_on_gpu:\n",
    "    D = nn.DataParallel(D).cuda()\n",
    "    G = nn.DataParallel(G).cuda()"
   ]
  },
  {
   "cell_type": "markdown",
   "metadata": {},
   "source": [
    "---\n",
    "## Discriminator and Generator Losses\n",
    "\n",
    "Now we need to calculate the losses for both types of adversarial networks.\n",
    "\n",
    "### Discriminator Losses\n",
    "\n",
    "> * For the discriminator, the total loss is the sum of the losses for real and fake images, `d_loss = d_real_loss + d_fake_loss`. \n",
    "* Remember that we want the discriminator to output 1 for real images and 0 for fake images, so we need to set up the losses to reflect that.\n",
    "\n",
    "\n",
    "### Generator Loss\n",
    "\n",
    "The generator loss will look similar only with flipped labels. The generator's goal is to get the discriminator to *think* its generated images are *real*.\n",
    "\n",
    "#### Exercise: Complete real and fake loss functions\n",
    "\n",
    "**You may choose to use either cross entropy or a least squares error loss to complete the following `real_loss` and `fake_loss` functions.**"
   ]
  },
  {
   "cell_type": "code",
   "execution_count": 19,
   "metadata": {},
   "outputs": [],
   "source": [
    "def real_loss(D_out, smooth=False):\n",
    "    '''Calculates how close discriminator outputs are to being real.\n",
    "       param, D_out: discriminator logits\n",
    "       return: real loss'''\n",
    "#     loss = \n",
    "#     return loss\n",
    "    batch_size = D_out.size(0)\n",
    "    # label smoothing\n",
    "    if smooth:\n",
    "        # smooth, real labels = 0.9\n",
    "        labels = torch.ones(batch_size)*0.9\n",
    "    else:\n",
    "        labels = torch.ones(batch_size) # real labels = 1\n",
    "    # move labels to GPU if available     \n",
    "    if train_on_gpu:\n",
    "        labels = labels.cuda()\n",
    "    # binary cross entropy with logits loss\n",
    "    criterion = nn.BCEWithLogitsLoss()\n",
    "    # calculate loss\n",
    "    loss = criterion(D_out.squeeze(), labels)\n",
    "    return loss\n",
    "\n",
    "def fake_loss(D_out):\n",
    "    '''Calculates how close discriminator outputs are to being fake.\n",
    "       param, D_out: discriminator logits\n",
    "       return: fake loss'''\n",
    "#     loss = \n",
    "#     return loss\n",
    "    batch_size = D_out.size(0)\n",
    "    labels = torch.zeros(batch_size) # fake labels = 0\n",
    "    if train_on_gpu:\n",
    "        labels = labels.cuda()\n",
    "    criterion = nn.BCEWithLogitsLoss()\n",
    "    # calculate loss\n",
    "    loss = criterion(D_out.squeeze(), labels)\n",
    "    return loss"
   ]
  },
  {
   "cell_type": "markdown",
   "metadata": {},
   "source": [
    "## Optimizers\n",
    "\n",
    "#### Exercise: Define optimizers for your Discriminator (D) and Generator (G)\n",
    "\n",
    "Define optimizers for your models with appropriate hyperparameters."
   ]
  },
  {
   "cell_type": "code",
   "execution_count": 20,
   "metadata": {},
   "outputs": [],
   "source": [
    "# import torch.optim as optim\n",
    "\n",
    "# # Create optimizers for the discriminator D and generator G\n",
    "# d_optimizer = \n",
    "# g_optimizer = \n",
    "# Create optimizers for the discriminator and generator\n",
    "# d_optimizer = optim.Adam(D.parameters(), lr, [beta1, beta2])\n",
    "# g_optimizer = optim.Adam(G.parameters(), lr, [beta1, beta2])\n",
    "\n",
    "d_optimizer = optim.Adam(D.parameters(), lr, [beta1, beta2], eps=1e-08, weight_decay=1e-04, amsgrad=True)\n",
    "d_scheduler = optim.lr_scheduler.ReduceLROnPlateau(d_optimizer, mode='min', factor=0.10, patience=patience, \n",
    "                                                 verbose=False, threshold=0.006, threshold_mode='rel', \n",
    "                                                 cooldown=cooldown, min_lr=lr1min, eps=1e-08)\n",
    "\n",
    "g_optimizer = optim.Adam(G.parameters(), lr, [beta1, beta2], eps=1e-08, weight_decay=1e-04, amsgrad=True)\n",
    "g_scheduler = optim.lr_scheduler.ReduceLROnPlateau(g_optimizer, mode='min', factor=0.10, patience=patience, \n",
    "                                                 verbose=False, threshold=0.006, threshold_mode='rel', \n",
    "                                                 cooldown=cooldown, min_lr=lr1min, eps=1e-08)"
   ]
  },
  {
   "cell_type": "markdown",
   "metadata": {},
   "source": [
    "---\n",
    "## Training\n",
    "\n",
    "Training will involve alternating between training the discriminator and the generator. You'll use your functions `real_loss` and `fake_loss` to help you calculate the discriminator losses.\n",
    "\n",
    "* You should train the discriminator by alternating on real and fake images\n",
    "* Then the generator, which tries to trick the discriminator and should have an opposing loss function\n",
    "\n",
    "\n",
    "#### Saving Samples\n",
    "\n",
    "You've been given some code to print out some loss statistics and save some generated \"fake\" samples."
   ]
  },
  {
   "cell_type": "markdown",
   "metadata": {},
   "source": [
    "#### Exercise: Complete the training function\n",
    "\n",
    "Keep in mind that, if you've moved your models to GPU, you'll also have to move any model inputs to GPU."
   ]
  },
  {
   "cell_type": "code",
   "execution_count": 21,
   "metadata": {},
   "outputs": [],
   "source": [
    "def train(D, G, n_epochs, print_every=50):\n",
    "    '''Trains adversarial networks for some number of epochs\n",
    "       param, D: the discriminator network\n",
    "       param, G: the generator network\n",
    "       param, n_epochs: number of epochs to train for\n",
    "       param, print_every: when to print and record the models' losses\n",
    "       return: D and G losses'''\n",
    "    \n",
    "#     # move models to GPU\n",
    "#     if train_on_gpu:\n",
    "#         nn.DataParallel(D).cuda()\n",
    "#         nn.DataParallel(G).cuda()\n",
    "\n",
    "    train_losses = []\n",
    "    valid_losses = []\n",
    "    d_scheduler_steps = []\n",
    "    g_scheduler_steps = []\n",
    "\n",
    "    # keep track of loss and generated, \"fake\" samples\n",
    "    samples = []\n",
    "    losses = []\n",
    "\n",
    "    # Get some fixed data for sampling. These are images that are held\n",
    "    # constant throughout training, and allow us to inspect the model's performance\n",
    "    sample_size=16\n",
    "    fixed_z = np.random.uniform(-1, 1, size=(sample_size, z_size))\n",
    "    fixed_z = torch.from_numpy(fixed_z).float()\n",
    "    # move z to GPU if available\n",
    "    if train_on_gpu:\n",
    "        fixed_z = fixed_z.cuda()\n",
    "\n",
    "    # epoch training loop\n",
    "    for epoch in range(n_epochs):\n",
    "\n",
    "        # batch training loop\n",
    "        for batch_i, (real_images, _) in enumerate(celeba_train_loader):\n",
    "\n",
    "            batch_size = real_images.size(0)\n",
    "            real_images = scale(real_images)\n",
    "\n",
    "            # ===============================================\n",
    "            # ============================================\n",
    "            #            TRAIN THE DISCRIMINATOR\n",
    "            # ============================================\n",
    "\n",
    "            d_optimizer.zero_grad()\n",
    "\n",
    "            # 1. Train with real images\n",
    "\n",
    "            # Compute the discriminator losses on real images \n",
    "            if train_on_gpu:\n",
    "                real_images = real_images.cuda()\n",
    "\n",
    "            D_real = D(real_images)\n",
    "            d_real_loss = real_loss(D_real)\n",
    "\n",
    "            # 2. Train with fake images\n",
    "\n",
    "            # Generate fake images\n",
    "            z = np.random.uniform(-1, 1, size=(batch_size, z_size))\n",
    "            z = torch.from_numpy(z).float()\n",
    "            # move x to GPU, if available\n",
    "            if train_on_gpu:\n",
    "                z = z.cuda()\n",
    "            fake_images = G(z)\n",
    "\n",
    "            # Compute the discriminator losses on fake images            \n",
    "            D_fake = D(fake_images)\n",
    "            d_fake_loss = fake_loss(D_fake)\n",
    "\n",
    "            # add up loss and perform backprop\n",
    "            d_loss = d_real_loss + d_fake_loss\n",
    "            d_loss.backward()\n",
    "            d_optimizer.step()\n",
    "\n",
    "\n",
    "            # =========================================\n",
    "            #            TRAIN THE GENERATOR\n",
    "            # =========================================\n",
    "            g_optimizer.zero_grad()\n",
    "\n",
    "            # 1. Train with fake images and flipped labels\n",
    "\n",
    "            # Generate fake images\n",
    "            z = np.random.uniform(-1, 1, size=(batch_size, z_size))\n",
    "            z = torch.from_numpy(z).float()\n",
    "            if train_on_gpu:\n",
    "                z = z.cuda()\n",
    "            fake_images = G(z)\n",
    "\n",
    "            # Compute the discriminator losses on fake images \n",
    "            # using flipped labels!\n",
    "            D_fake = D(fake_images)\n",
    "            g_loss = real_loss(D_fake) # use real loss to flip labels\n",
    "\n",
    "            # perform backprop\n",
    "            g_loss.backward()\n",
    "            g_optimizer.step()\n",
    "\n",
    "            # Print some loss stats\n",
    "            if batch_i % print_every == 0:\n",
    "                # append discriminator loss and generator loss\n",
    "                losses.append((d_loss.item(), g_loss.item()))\n",
    "                \n",
    "                # print discriminator and generator loss\n",
    "                print(f\"Time: {(time.time() - starttime):.3f}\",\n",
    "                      'Epoch [{:5d}/{:5d}] | d_loss: {:6.4f} | g_loss: {:6.4f}'.format(\n",
    "                          epoch+1, n_epochs, d_loss.item(), g_loss.item()))\n",
    "                \n",
    "                d_scheduler.step(d_loss.item())\n",
    "                g_scheduler.step(g_loss.item())\n",
    "                d_scheduler_steps.append(d_optimizer.param_groups[0]['lr'])\n",
    "                g_scheduler_steps.append(g_optimizer.param_groups[0]['lr'])\n",
    "\n",
    "\n",
    "        ## AFTER EACH EPOCH##    \n",
    "        # this code assumes your generator is named G, feel free to change the name\n",
    "        # generate and save sample, fake images\n",
    "        G.eval() # for generating samples\n",
    "        samples_z = G(fixed_z)\n",
    "        samples.append(samples_z)\n",
    "        G.train() # back to training mode\n",
    "        \n",
    "\n",
    "        \n",
    "\n",
    "    # Save training generator samples\n",
    "    with open('train_samples.pkl', 'wb') as f:\n",
    "        pkl.dump(samples, f)\n",
    "    \n",
    "    # finally return losses\n",
    "    return losses, d_scheduler_steps, g_scheduler_steps"
   ]
  },
  {
   "cell_type": "markdown",
   "metadata": {},
   "source": [
    "Set your number of training epochs and train your GAN!"
   ]
  },
  {
   "cell_type": "code",
   "execution_count": 22,
   "metadata": {
    "scrolled": false
   },
   "outputs": [
    {
     "name": "stdout",
     "output_type": "stream",
     "text": [
      "Time: 18.210 Epoch [    1/    4] | d_loss: 1.4114 | g_loss: 0.7277\n",
      "Time: 21.418 Epoch [    1/    4] | d_loss: 0.0657 | g_loss: 4.4037\n",
      "Time: 24.558 Epoch [    1/    4] | d_loss: 0.1818 | g_loss: 3.3038\n",
      "Time: 27.572 Epoch [    1/    4] | d_loss: 0.2997 | g_loss: 3.1018\n",
      "Time: 30.527 Epoch [    1/    4] | d_loss: 0.3364 | g_loss: 2.5871\n",
      "Time: 33.554 Epoch [    1/    4] | d_loss: 0.3819 | g_loss: 2.7263\n",
      "Time: 36.476 Epoch [    1/    4] | d_loss: 1.5921 | g_loss: 1.8760\n",
      "Time: 39.479 Epoch [    1/    4] | d_loss: 0.6181 | g_loss: 1.9698\n",
      "Time: 42.582 Epoch [    1/    4] | d_loss: 1.0049 | g_loss: 2.4784\n",
      "Time: 45.810 Epoch [    1/    4] | d_loss: 0.8140 | g_loss: 1.5076\n",
      "Time: 48.863 Epoch [    1/    4] | d_loss: 0.9107 | g_loss: 0.9474\n",
      "Time: 52.014 Epoch [    1/    4] | d_loss: 1.2767 | g_loss: 1.0708\n",
      "Time: 55.074 Epoch [    1/    4] | d_loss: 1.0257 | g_loss: 1.3962\n",
      "Time: 58.018 Epoch [    1/    4] | d_loss: 1.2962 | g_loss: 0.8947\n",
      "Time: 61.086 Epoch [    1/    4] | d_loss: 0.9894 | g_loss: 1.3369\n",
      "Time: 64.172 Epoch [    1/    4] | d_loss: 1.7053 | g_loss: 0.9283\n",
      "Time: 67.217 Epoch [    1/    4] | d_loss: 1.0140 | g_loss: 1.1276\n",
      "Time: 70.381 Epoch [    1/    4] | d_loss: 1.1178 | g_loss: 1.5899\n",
      "Time: 73.392 Epoch [    1/    4] | d_loss: 0.9664 | g_loss: 1.8343\n",
      "Time: 76.377 Epoch [    1/    4] | d_loss: 0.9583 | g_loss: 1.0866\n",
      "Time: 79.434 Epoch [    1/    4] | d_loss: 1.8008 | g_loss: 0.8971\n",
      "Time: 82.408 Epoch [    1/    4] | d_loss: 0.8583 | g_loss: 1.1093\n",
      "Time: 85.490 Epoch [    1/    4] | d_loss: 0.8962 | g_loss: 1.2495\n",
      "Time: 88.655 Epoch [    1/    4] | d_loss: 0.6053 | g_loss: 1.3123\n",
      "Time: 91.558 Epoch [    1/    4] | d_loss: 0.9000 | g_loss: 1.4350\n",
      "Time: 94.474 Epoch [    1/    4] | d_loss: 0.6775 | g_loss: 1.5237\n",
      "Time: 97.443 Epoch [    1/    4] | d_loss: 0.7906 | g_loss: 1.3193\n",
      "Time: 100.481 Epoch [    1/    4] | d_loss: 0.7839 | g_loss: 1.3251\n",
      "Time: 103.657 Epoch [    1/    4] | d_loss: 0.6219 | g_loss: 1.4811\n",
      "Time: 106.570 Epoch [    2/    4] | d_loss: 0.6563 | g_loss: 1.0447\n",
      "Time: 109.564 Epoch [    2/    4] | d_loss: 0.7968 | g_loss: 1.3645\n",
      "Time: 112.671 Epoch [    2/    4] | d_loss: 0.6190 | g_loss: 1.1555\n",
      "Time: 115.758 Epoch [    2/    4] | d_loss: 0.7858 | g_loss: 1.3275\n",
      "Time: 118.796 Epoch [    2/    4] | d_loss: 0.7445 | g_loss: 1.2034\n",
      "Time: 121.884 Epoch [    2/    4] | d_loss: 0.7373 | g_loss: 1.4936\n",
      "Time: 124.932 Epoch [    2/    4] | d_loss: 0.5845 | g_loss: 1.5020\n",
      "Time: 127.915 Epoch [    2/    4] | d_loss: 0.7652 | g_loss: 1.1671\n",
      "Time: 131.038 Epoch [    2/    4] | d_loss: 0.7820 | g_loss: 1.4710\n",
      "Time: 134.091 Epoch [    2/    4] | d_loss: 0.6622 | g_loss: 1.6780\n",
      "Time: 137.222 Epoch [    2/    4] | d_loss: 0.7792 | g_loss: 1.5571\n",
      "Time: 140.189 Epoch [    2/    4] | d_loss: 0.7874 | g_loss: 0.9859\n",
      "Time: 143.150 Epoch [    2/    4] | d_loss: 0.7642 | g_loss: 1.5664\n",
      "Time: 146.266 Epoch [    2/    4] | d_loss: 0.7450 | g_loss: 1.1222\n",
      "Time: 149.339 Epoch [    2/    4] | d_loss: 0.8810 | g_loss: 1.1284\n",
      "Time: 152.458 Epoch [    2/    4] | d_loss: 0.5574 | g_loss: 1.4001\n",
      "Time: 155.537 Epoch [    2/    4] | d_loss: 0.7491 | g_loss: 1.2487\n",
      "Time: 158.632 Epoch [    2/    4] | d_loss: 0.6112 | g_loss: 1.4898\n",
      "Time: 161.663 Epoch [    2/    4] | d_loss: 0.4434 | g_loss: 1.8756\n",
      "Time: 164.683 Epoch [    2/    4] | d_loss: 0.4605 | g_loss: 1.6207\n",
      "Time: 167.814 Epoch [    2/    4] | d_loss: 0.4736 | g_loss: 1.9168\n",
      "Time: 170.822 Epoch [    2/    4] | d_loss: 0.7225 | g_loss: 1.7903\n",
      "Time: 173.933 Epoch [    2/    4] | d_loss: 0.4915 | g_loss: 1.9964\n",
      "Time: 177.142 Epoch [    2/    4] | d_loss: 0.5472 | g_loss: 1.5275\n",
      "Time: 180.257 Epoch [    2/    4] | d_loss: 0.7095 | g_loss: 1.6634\n",
      "Time: 183.387 Epoch [    2/    4] | d_loss: 0.4877 | g_loss: 1.5849\n",
      "Time: 186.610 Epoch [    2/    4] | d_loss: 0.6034 | g_loss: 1.5067\n",
      "Time: 189.624 Epoch [    2/    4] | d_loss: 0.6035 | g_loss: 1.5073\n",
      "Time: 192.794 Epoch [    2/    4] | d_loss: 0.5554 | g_loss: 1.2734\n",
      "Time: 195.748 Epoch [    3/    4] | d_loss: 0.7084 | g_loss: 1.4349\n",
      "Time: 198.881 Epoch [    3/    4] | d_loss: 0.5747 | g_loss: 1.6814\n",
      "Time: 201.987 Epoch [    3/    4] | d_loss: 0.5948 | g_loss: 1.7238\n",
      "Time: 205.033 Epoch [    3/    4] | d_loss: 0.6077 | g_loss: 1.8240\n",
      "Time: 208.147 Epoch [    3/    4] | d_loss: 0.6991 | g_loss: 1.5292\n",
      "Time: 211.240 Epoch [    3/    4] | d_loss: 0.6261 | g_loss: 1.3120\n",
      "Time: 214.422 Epoch [    3/    4] | d_loss: 0.7630 | g_loss: 1.5201\n",
      "Time: 217.471 Epoch [    3/    4] | d_loss: 0.5313 | g_loss: 1.6391\n",
      "Time: 220.501 Epoch [    3/    4] | d_loss: 0.5728 | g_loss: 1.5986\n",
      "Time: 223.758 Epoch [    3/    4] | d_loss: 0.6567 | g_loss: 1.6246\n",
      "Time: 226.849 Epoch [    3/    4] | d_loss: 0.5895 | g_loss: 1.4871\n",
      "Time: 229.944 Epoch [    3/    4] | d_loss: 0.4917 | g_loss: 1.6961\n",
      "Time: 232.997 Epoch [    3/    4] | d_loss: 0.5547 | g_loss: 1.6521\n",
      "Time: 236.075 Epoch [    3/    4] | d_loss: 0.7235 | g_loss: 1.6653\n",
      "Time: 239.286 Epoch [    3/    4] | d_loss: 0.6978 | g_loss: 1.7313\n",
      "Time: 242.415 Epoch [    3/    4] | d_loss: 0.4952 | g_loss: 1.5653\n",
      "Time: 245.467 Epoch [    3/    4] | d_loss: 0.5712 | g_loss: 1.5009\n",
      "Time: 248.539 Epoch [    3/    4] | d_loss: 0.6909 | g_loss: 1.4961\n",
      "Time: 251.649 Epoch [    3/    4] | d_loss: 0.6070 | g_loss: 1.5500\n",
      "Time: 254.815 Epoch [    3/    4] | d_loss: 0.6121 | g_loss: 1.4659\n",
      "Time: 257.900 Epoch [    3/    4] | d_loss: 0.5519 | g_loss: 1.5874\n",
      "Time: 261.009 Epoch [    3/    4] | d_loss: 0.6837 | g_loss: 1.4815\n",
      "Time: 264.039 Epoch [    3/    4] | d_loss: 0.5303 | g_loss: 1.6665\n",
      "Time: 267.085 Epoch [    3/    4] | d_loss: 0.6709 | g_loss: 1.6662\n",
      "Time: 270.045 Epoch [    3/    4] | d_loss: 0.5948 | g_loss: 1.4252\n",
      "Time: 273.192 Epoch [    3/    4] | d_loss: 0.5023 | g_loss: 1.5180\n",
      "Time: 276.336 Epoch [    3/    4] | d_loss: 0.5761 | g_loss: 1.9193\n",
      "Time: 279.441 Epoch [    3/    4] | d_loss: 0.6342 | g_loss: 1.6567\n",
      "Time: 282.423 Epoch [    3/    4] | d_loss: 0.5943 | g_loss: 1.6383\n",
      "Time: 285.618 Epoch [    4/    4] | d_loss: 0.6298 | g_loss: 1.7246\n",
      "Time: 288.638 Epoch [    4/    4] | d_loss: 0.5032 | g_loss: 1.5355\n",
      "Time: 291.630 Epoch [    4/    4] | d_loss: 0.6089 | g_loss: 1.6520\n",
      "Time: 294.775 Epoch [    4/    4] | d_loss: 0.6145 | g_loss: 1.5789\n",
      "Time: 297.890 Epoch [    4/    4] | d_loss: 0.6254 | g_loss: 1.5079\n",
      "Time: 301.031 Epoch [    4/    4] | d_loss: 0.6814 | g_loss: 1.5363\n",
      "Time: 304.228 Epoch [    4/    4] | d_loss: 0.6606 | g_loss: 1.7272\n",
      "Time: 307.342 Epoch [    4/    4] | d_loss: 0.5822 | g_loss: 1.8693\n",
      "Time: 310.558 Epoch [    4/    4] | d_loss: 0.6615 | g_loss: 1.5507\n",
      "Time: 313.680 Epoch [    4/    4] | d_loss: 0.4840 | g_loss: 1.6406\n",
      "Time: 316.881 Epoch [    4/    4] | d_loss: 0.5467 | g_loss: 1.3851\n",
      "Time: 319.978 Epoch [    4/    4] | d_loss: 0.8093 | g_loss: 1.4732\n",
      "Time: 323.171 Epoch [    4/    4] | d_loss: 0.5561 | g_loss: 1.6224\n",
      "Time: 326.351 Epoch [    4/    4] | d_loss: 0.6948 | g_loss: 1.6601\n",
      "Time: 329.455 Epoch [    4/    4] | d_loss: 0.8350 | g_loss: 1.5123\n",
      "Time: 332.641 Epoch [    4/    4] | d_loss: 0.6427 | g_loss: 1.7181\n",
      "Time: 335.720 Epoch [    4/    4] | d_loss: 0.5042 | g_loss: 1.5894\n",
      "Time: 339.080 Epoch [    4/    4] | d_loss: 0.5388 | g_loss: 1.6660\n",
      "Time: 342.183 Epoch [    4/    4] | d_loss: 0.6389 | g_loss: 1.6297\n",
      "Time: 345.284 Epoch [    4/    4] | d_loss: 0.6853 | g_loss: 1.6088\n",
      "Time: 348.416 Epoch [    4/    4] | d_loss: 0.6122 | g_loss: 1.6384\n",
      "Time: 351.507 Epoch [    4/    4] | d_loss: 0.5500 | g_loss: 1.8546\n",
      "Time: 354.536 Epoch [    4/    4] | d_loss: 0.5460 | g_loss: 1.6481\n",
      "Time: 357.623 Epoch [    4/    4] | d_loss: 0.6619 | g_loss: 1.3508\n",
      "Time: 360.696 Epoch [    4/    4] | d_loss: 0.5593 | g_loss: 1.6297\n",
      "Time: 363.724 Epoch [    4/    4] | d_loss: 0.5349 | g_loss: 1.3771\n",
      "Time: 366.911 Epoch [    4/    4] | d_loss: 0.4317 | g_loss: 1.5342\n",
      "Time: 370.179 Epoch [    4/    4] | d_loss: 0.6233 | g_loss: 1.6267\n",
      "Time: 373.154 Epoch [    4/    4] | d_loss: 0.6646 | g_loss: 1.5536\n"
     ]
    }
   ],
   "source": [
    "# set number of epochs \n",
    "#n_epochs = \n",
    "\n",
    "\n",
    "\"\"\"\n",
    "DON'T MODIFY ANYTHING IN THIS CELL\n",
    "\"\"\"\n",
    "# call training function\n",
    "# losses = train(D, G, n_epochs=n_epochs)\n",
    "losses, d_scheduler_steps, g_scheduler_steps = train(D, G, n_epochs=n_epochs)"
   ]
  },
  {
   "cell_type": "markdown",
   "metadata": {
    "collapsed": true
   },
   "source": [
    "## Training loss\n",
    "\n",
    "Plot the training losses for the generator and discriminator, recorded after each epoch."
   ]
  },
  {
   "cell_type": "code",
   "execution_count": 23,
   "metadata": {},
   "outputs": [
    {
     "data": {
      "image/png": "[encoded data removed]",
      "text/plain": [
       "<Figure size 432x288 with 1 Axes>"
      ]
     },
     "metadata": {
      "needs_background": "light"
     },
     "output_type": "display_data"
    }
   ],
   "source": [
    "fig, ar = plt.subplots()\n",
    "g_scheduler_steps = np.array(g_scheduler_steps)\n",
    "plt.plot(d_scheduler_steps, label='Discriminator LR', alpha=0.5)\n",
    "plt.plot(g_scheduler_steps, label='Generator LR', alpha=0.5)\n",
    "#plt.xlabel('epochs')\n",
    "plt.legend(frameon=False)\n",
    "plt.title('g_scheduler_steps progress')  \n",
    "ar.set_yscale('log')\n",
    "#plt.figure(figsize=(15,24))\n",
    "plt.show()"
   ]
  },
  {
   "cell_type": "code",
   "execution_count": 24,
   "metadata": {},
   "outputs": [
    {
     "data": {
      "image/png": "[encoded data removed]",
      "text/plain": [
       "<Figure size 432x288 with 1 Axes>"
      ]
     },
     "metadata": {
      "needs_background": "light"
     },
     "output_type": "display_data"
    }
   ],
   "source": [
    "fig, ax = plt.subplots()\n",
    "losses = np.array(losses)\n",
    "plt.plot(losses.T[0], label='Discriminator', alpha=0.5)\n",
    "plt.plot(losses.T[1], label='Generator', alpha=0.5)\n",
    "plt.title('Training Losses')\n",
    "ax.set_yscale('log')\n",
    "plt.legend()\n",
    "plt.show()"
   ]
  },
  {
   "cell_type": "markdown",
   "metadata": {
    "collapsed": true
   },
   "source": [
    "## Generator samples from training\n",
    "\n",
    "View samples of images from the generator, and answer a question about the strengths and weaknesses of your trained models."
   ]
  },
  {
   "cell_type": "code",
   "execution_count": 25,
   "metadata": {},
   "outputs": [],
   "source": [
    "# helper function for viewing a list of passed in sample images\n",
    "def view_samples(epoch, samples):\n",
    "    fig, axes = plt.subplots(figsize=(16,4), nrows=2, ncols=8, sharey=True, sharex=True)\n",
    "    for ax, img in zip(axes.flatten(), samples[epoch]):\n",
    "        img = img.detach().cpu().numpy()\n",
    "        img = np.transpose(img, (1, 2, 0))\n",
    "        img = ((img + 1)*255 / (2)).astype(np.uint8)\n",
    "        ax.xaxis.set_visible(False)\n",
    "        ax.yaxis.set_visible(False)\n",
    "        im = ax.imshow(img.reshape((32,32,3)))"
   ]
  },
  {
   "cell_type": "code",
   "execution_count": 26,
   "metadata": {},
   "outputs": [],
   "source": [
    "# Load samples from generator, taken while training\n",
    "with open('train_samples.pkl', 'rb') as f:\n",
    "    samples = pkl.load(f)"
   ]
  },
  {
   "cell_type": "code",
   "execution_count": 27,
   "metadata": {},
   "outputs": [
    {
     "data": {
      "image/png": "[encoded data removed]",
      "text/plain": [
       "<Figure size 1152x288 with 16 Axes>"
      ]
     },
     "metadata": {
      "needs_background": "light"
     },
     "output_type": "display_data"
    }
   ],
   "source": [
    "_ = view_samples(-1, samples)"
   ]
  },
  {
   "cell_type": "markdown",
   "metadata": {},
   "source": [
    "### Question: What do you notice about your generated samples and how might you improve this model?\n",
    "When you answer this question, consider the following factors:\n",
    "* The dataset is biased; it is made of \"celebrity\" faces that are mostly white\n",
    "* Model size; larger models have the opportunity to learn more features in a data feature space\n",
    "* Optimization strategy; optimizers and number of epochs affect your final result\n"
   ]
  },
  {
   "cell_type": "markdown",
   "metadata": {},
   "source": [
    "**Answer:** (Write your answer in this cell)\n",
    "\n",
    "This project I felt a lot of parts came together, the custom architecture with the resnet blocks from the previous lessons and schedulers optimizer.   \n",
    "\n",
    "The scheduler did a good job dropping the learning rate as it plateaued, this kept the training from getting stuck and never reaching the valley just bouncing around.\n",
    "\n",
    "My model size seemed adequate for the data set given, I downloaded the full data set and will train on it once I complete the course  (on a time crunch at the moment, think we all are) But would be interesting to see how the full data set is compared to the small data set on distribution of race. \n",
    "As currently the model will mostly generate white faces. \n",
    "I would almost say the model I defined was a little to big for the data set, as the final generation had some pixel error. A longer training time, and on the full data set I think would solve this issue. \n",
    "Hyperperamaters  were a paint for this one, model seemed touchy and too high a learning rate or too many nodes would send the two models into perfection against each other with random noise being the output. \n",
    "When I cut out the resnet blocks the model trained much better, as I guess my initial assumption was correct in that the model was over fitting the data. \n",
    "\n",
    "Overall very happy with the information acquired on this lesson and look forwarded to the next! "
   ]
  },
  {
   "cell_type": "markdown",
   "metadata": {},
   "source": [
    "### Submitting This Project\n",
    "When submitting this project, make sure to run all the cells before saving the notebook. Save the notebook file as \"dlnd_face_generation.ipynb\" and save it as a HTML file under \"File\" -> \"Download as\". Include the \"problem_unittests.py\" files in your submission."
   ]
  }
 ],
 "metadata": {
  "kernelspec": {
   "display_name": "Python 3",
   "language": "python",
   "name": "python3"
  },
  "language_info": {
   "codemirror_mode": {
    "name": "ipython",
    "version": 3
   },
   "file_extension": ".py",
   "mimetype": "text/x-python",
   "name": "python",
   "nbconvert_exporter": "python",
   "pygments_lexer": "ipython3",
   "version": "3.6.8"
  }
 },
 "nbformat": 4,
 "nbformat_minor": 1
}
